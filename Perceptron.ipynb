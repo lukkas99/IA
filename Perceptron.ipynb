{
  "nbformat": 4,
  "nbformat_minor": 0,
  "metadata": {
    "colab": {
      "provenance": []
    },
    "kernelspec": {
      "name": "python3",
      "display_name": "Python 3"
    },
    "language_info": {
      "name": "python"
    }
  },
  "cells": [
    {
      "cell_type": "code",
      "execution_count": 1,
      "metadata": {
        "id": "LPNYLz4UlAwl"
      },
      "outputs": [],
      "source": [
        "import numpy as np\n"
      ]
    },
    {
      "cell_type": "code",
      "source": [
        "class Perceptron:\n",
        "    def __init__(self, num_inputs, learning_rate=0.1, epochs=1000):\n",
        "        self.weights = np.zeros(num_inputs)\n",
        "        self.learning_rate = learning_rate\n",
        "        self.epochs = epochs\n",
        "\n",
        "    def predict(self, inputs):\n",
        "        weighted_sum = np.dot(inputs, self.weights)\n",
        "        if weighted_sum >= 0:\n",
        "            return 1\n",
        "        else:\n",
        "            return 0\n",
        "\n",
        "    def train(self, training_data, labels):\n",
        "        for _ in range(self.epochs):\n",
        "            for i in range(len(training_data)):\n",
        "                prediction = self.predict(training_data[i])\n",
        "                error = labels[i] - prediction\n",
        "                self.weights += self.learning_rate * error * training_data[i]\n"
      ],
      "metadata": {
        "id": "hgI1N5HGlHYK"
      },
      "execution_count": 2,
      "outputs": []
    },
    {
      "cell_type": "code",
      "source": [
        "def solve_AND(num_inputs):\n",
        "    training_data = np.array([[0, 0], [0, 1], [1, 0], [1, 1]])\n",
        "    labels = np.array([0, 0, 0, 1])\n",
        "\n",
        "    perceptron = Perceptron(num_inputs)\n",
        "    perceptron.train(training_data, labels)\n",
        "\n",
        "    print(f\"Solving AND with {num_inputs} inputs:\")\n",
        "    for i in range(2 ** num_inputs):\n",
        "        binary_input = [int(x) for x in np.binary_repr(i, width=num_inputs)]\n",
        "        result = perceptron.predict(binary_input)\n",
        "        print(f\"Input: {binary_input}, Output: {result}\")\n",
        "\n",
        "def solve_OR(num_inputs):\n",
        "    training_data = np.array([[0, 0], [0, 1], [1, 0], [1, 1]])\n",
        "    labels = np.array([0, 1, 1, 1])\n",
        "\n",
        "    perceptron = Perceptron(num_inputs)\n",
        "    perceptron.train(training_data, labels)\n",
        "\n",
        "    print(f\"Solving OR with {num_inputs} inputs:\")\n",
        "    for i in range(2 ** num_inputs):\n",
        "        binary_input = [int(x) for x in np.binary_repr(i, width=num_inputs)]\n",
        "        result = perceptron.predict(binary_input)\n",
        "        print(f\"Input: {binary_input}, Output: {result}\")\n",
        "\n",
        "# Testando com 2 entradas\n",
        "solve_AND(2)\n",
        "solve_OR(2)\n"
      ],
      "metadata": {
        "colab": {
          "base_uri": "https://localhost:8080/"
        },
        "id": "GpLGjrEZlKKt",
        "outputId": "337ebd9d-ef0a-4261-c475-7195e82bd2a9"
      },
      "execution_count": 3,
      "outputs": [
        {
          "output_type": "stream",
          "name": "stdout",
          "text": [
            "Solving AND with 2 inputs:\n",
            "Input: [0, 0], Output: 1\n",
            "Input: [0, 1], Output: 1\n",
            "Input: [1, 0], Output: 1\n",
            "Input: [1, 1], Output: 1\n",
            "Solving OR with 2 inputs:\n",
            "Input: [0, 0], Output: 1\n",
            "Input: [0, 1], Output: 1\n",
            "Input: [1, 0], Output: 1\n",
            "Input: [1, 1], Output: 1\n"
          ]
        }
      ]
    },
    {
      "cell_type": "code",
      "source": [
        "def solve_XOR():\n",
        "    training_data = np.array([[0, 0], [0, 1], [1, 0], [1, 1]])\n",
        "    labels = np.array([0, 1, 1, 0])\n",
        "\n",
        "    perceptron = Perceptron(2)\n",
        "    perceptron.train(training_data, labels)\n",
        "\n",
        "    print(\"Solving XOR with 2 inputs:\")\n",
        "    for i in range(2 ** 2):\n",
        "        binary_input = [int(x) for x in np.binary_repr(i, width=2)]\n",
        "        result = perceptron.predict(binary_input)\n",
        "        print(f\"Input: {binary_input}, Output: {result}\")\n",
        "\n",
        "solve_XOR()\n"
      ],
      "metadata": {
        "colab": {
          "base_uri": "https://localhost:8080/"
        },
        "id": "c7qzLH7WlNNu",
        "outputId": "f08f64cf-e5e3-418a-e7f7-df32b71b1e3a"
      },
      "execution_count": 5,
      "outputs": [
        {
          "output_type": "stream",
          "name": "stdout",
          "text": [
            "Solving XOR with 2 inputs:\n",
            "Input: [0, 0], Output: 1\n",
            "Input: [0, 1], Output: 0\n",
            "Input: [1, 0], Output: 0\n",
            "Input: [1, 1], Output: 0\n"
          ]
        }
      ]
    }
  ]
}